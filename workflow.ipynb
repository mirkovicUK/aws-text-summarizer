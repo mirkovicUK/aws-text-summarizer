{
 "cells": [
  {
   "cell_type": "code",
   "execution_count": null,
   "id": "309051ae",
   "metadata": {},
   "outputs": [],
   "source": [
    "import asyncio\n",
    "import websockets\n",
    "import json\n",
    "import requests\n",
    "import os\n",
    "import dotenv\n",
    "from dotenv import load_dotenv\n",
    "\n",
    "load_dotenv()\n",
    "\n",
    "def send_post_request(url, text_data):\n",
    "    data = {\"text\": text_data}\n",
    "    response = requests.post(url, json=data)\n",
    "    return response\n",
    "\n",
    "async def websocket_listen(uri, msg):\n",
    "    async with websockets.connect(uri) as websocket:\n",
    "        await websocket.send(json.dumps(msg))\n",
    "        async for message in websocket:\n",
    "            if \"AudioSummaryLink\" in message:\n",
    "                data = json.loads(message)\n",
    "                print(f\"AudioSummaryLink:\\n{data['AudioSummaryLink']}\")\n",
    "                print()\n",
    "                print(f\"SummaryText:\\n{data['SummaryText']}\") \n",
    "                await websocket.close()\n",
    "                break\n",
    "\n",
    "def read_text_data(filename=\"sample_text_1000_tokens.txt\"):\n",
    "    with open(filename, 'r') as file:\n",
    "        text = file.read()\n",
    "    return text\n"
   ]
  },
  {
   "cell_type": "code",
   "execution_count": null,
   "id": "93192b99",
   "metadata": {},
   "outputs": [],
   "source": [
    "web_socket_uri = os.getenv('WEBSOCKET_URI')\n",
    "url = os.getenv('API_URL')\n",
    "msg_for_websocket = {\"Action\": \"register\", \"executionArn\": \"test-execution\"}\n",
    "text = read_text_data()"
   ]
  },
  {
   "cell_type": "code",
   "execution_count": null,
   "id": "c47c59d2",
   "metadata": {},
   "outputs": [],
   "source": [
    "response = send_post_request(url, text)\n",
    "msg = {\"Action\": \"register\", \n",
    "       \"executionArn\": f\"{response.json().get('executionArn')}\"}\n",
    "await websocket_listen(web_socket_uri, msg)"
   ]
  }
 ],
 "metadata": {
  "kernelspec": {
   "display_name": ".venv",
   "language": "python",
   "name": "python3"
  },
  "language_info": {
   "codemirror_mode": {
    "name": "ipython",
    "version": 3
   },
   "file_extension": ".py",
   "mimetype": "text/x-python",
   "name": "python",
   "nbconvert_exporter": "python",
   "pygments_lexer": "ipython3",
   "version": "3.11.1"
  }
 },
 "nbformat": 4,
 "nbformat_minor": 5
}
